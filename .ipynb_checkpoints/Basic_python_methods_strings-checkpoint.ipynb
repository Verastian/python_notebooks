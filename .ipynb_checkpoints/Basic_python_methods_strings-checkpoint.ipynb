{
 "cells": [
  {
   "cell_type": "markdown",
   "id": "4aa8fa6e-e26a-457a-8007-06cb4e41d45c",
   "metadata": {},
   "source": [
    "# VARIABLES "
   ]
  },
  {
   "cell_type": "code",
   "execution_count": 9,
   "id": "50d8496a-d0a0-4a72-b702-4e4472b17e00",
   "metadata": {},
   "outputs": [
    {
     "name": "stdout",
     "output_type": "stream",
     "text": [
      "hello world\n"
     ]
    }
   ],
   "source": [
    "print('hello world')"
   ]
  },
  {
   "cell_type": "code",
   "execution_count": 15,
   "id": "f73d23c2-73ea-4034-a07e-2f0d93f4237b",
   "metadata": {},
   "outputs": [],
   "source": [
    "number = 10"
   ]
  },
  {
   "cell_type": "markdown",
   "id": "19975ea0-245b-4e6b-b2c4-0cc3227f94d5",
   "metadata": {},
   "source": [
    "number"
   ]
  },
  {
   "cell_type": "markdown",
   "id": "4e997a5e-1703-4334-af80-6ccea34724fe",
   "metadata": {},
   "source": [
    "# Encadenamiento"
   ]
  },
  {
   "cell_type": "code",
   "execution_count": 20,
   "id": "c7746fb1-045b-49ab-bbc6-7f4567235a27",
   "metadata": {},
   "outputs": [],
   "source": [
    "string1=\"Hello\"\n",
    "string2=\"World\""
   ]
  },
  {
   "cell_type": "code",
   "execution_count": 21,
   "id": "f26cd4f9-eefa-404d-b469-01be4f2c2513",
   "metadata": {},
   "outputs": [],
   "source": [
    "total_string= string1 + string2"
   ]
  },
  {
   "cell_type": "code",
   "execution_count": 22,
   "id": "306d4ed9-4003-4e4e-a54c-70f45f5644f8",
   "metadata": {},
   "outputs": [
    {
     "data": {
      "text/plain": [
       "'HelloWorld'"
      ]
     },
     "execution_count": 22,
     "metadata": {},
     "output_type": "execute_result"
    }
   ],
   "source": [
    "total_string"
   ]
  },
  {
   "cell_type": "markdown",
   "id": "8661ba79-b684-4655-90e5-1b78ac3da475",
   "metadata": {},
   "source": [
    "#saber tipo de variable"
   ]
  },
  {
   "cell_type": "code",
   "execution_count": 28,
   "id": "e023b018-fc79-40f7-9d5a-7b0aebe5b590",
   "metadata": {},
   "outputs": [],
   "source": [
    "numberInt= 55\n",
    "numberFloat=3.5"
   ]
  },
  {
   "cell_type": "code",
   "execution_count": 29,
   "id": "5b395f83-b462-444e-b14f-a2d395250768",
   "metadata": {},
   "outputs": [
    {
     "data": {
      "text/plain": [
       "int"
      ]
     },
     "execution_count": 29,
     "metadata": {},
     "output_type": "execute_result"
    }
   ],
   "source": [
    "type(numberInt)"
   ]
  },
  {
   "cell_type": "code",
   "execution_count": 30,
   "id": "3534fda2-fed4-493c-a705-e8490bdee6ce",
   "metadata": {},
   "outputs": [
    {
     "data": {
      "text/plain": [
       "float"
      ]
     },
     "execution_count": 30,
     "metadata": {},
     "output_type": "execute_result"
    }
   ],
   "source": [
    "type(numberFloat)"
   ]
  },
  {
   "cell_type": "markdown",
   "id": "d279252d-0fc5-4ed1-800e-c8e412ad7995",
   "metadata": {},
   "source": [
    "# Conversiones"
   ]
  },
  {
   "cell_type": "code",
   "execution_count": 48,
   "id": "c26953fa-24aa-4c10-b8f7-ddf4589c8ac1",
   "metadata": {},
   "outputs": [],
   "source": [
    "string = '30'\n",
    "number = 30"
   ]
  },
  {
   "cell_type": "code",
   "execution_count": 49,
   "id": "114a5e98-e1a6-4c30-95f0-40e4cea5fde0",
   "metadata": {},
   "outputs": [],
   "source": [
    "stringToNumber= int(string)\n",
    "numberToString=str(number)"
   ]
  },
  {
   "cell_type": "code",
   "execution_count": 50,
   "id": "800387bd-8e6e-4104-886b-5bcbd5815c65",
   "metadata": {},
   "outputs": [],
   "source": [
    "result = 'EL valor numerio convertido en cadena es. ' + str(stringToNumber) #concatenación solo de cadenas"
   ]
  },
  {
   "cell_type": "code",
   "execution_count": 51,
   "id": "37c169e5-9941-45e9-9e37-9e74f72cedf4",
   "metadata": {},
   "outputs": [],
   "source": [
    "result2= 'El valor de la cadena convertida en numero es: '+ numberToString"
   ]
  },
  {
   "cell_type": "code",
   "execution_count": 52,
   "id": "656d7990-72e1-4353-888f-62f8da4df4de",
   "metadata": {},
   "outputs": [
    {
     "data": {
      "text/plain": [
       "'EL valor numerio convertido en cadena es. 30'"
      ]
     },
     "execution_count": 52,
     "metadata": {},
     "output_type": "execute_result"
    }
   ],
   "source": [
    "result"
   ]
  },
  {
   "cell_type": "code",
   "execution_count": 53,
   "id": "b56634d6-fbdf-41c3-92f8-94c8370a8e02",
   "metadata": {},
   "outputs": [
    {
     "data": {
      "text/plain": [
       "'El valor de la cadena convertida en numero es: 30'"
      ]
     },
     "execution_count": 53,
     "metadata": {},
     "output_type": "execute_result"
    }
   ],
   "source": [
    "result2"
   ]
  },
  {
   "cell_type": "markdown",
   "id": "3b5f9783-dc69-47c4-8948-256c17dee0e0",
   "metadata": {},
   "source": [
    "# STRINGS "
   ]
  },
  {
   "cell_type": "code",
   "execution_count": 60,
   "id": "eb5d36e8-0cfe-4b7b-a98a-777e55b62d39",
   "metadata": {},
   "outputs": [],
   "source": [
    "initialString = 'Hello world'"
   ]
  },
  {
   "cell_type": "code",
   "execution_count": 61,
   "id": "19fd0486-2d71-4d33-b4cb-2a3c215e3209",
   "metadata": {},
   "outputs": [
    {
     "data": {
      "text/plain": [
       "'w'"
      ]
     },
     "execution_count": 61,
     "metadata": {},
     "output_type": "execute_result"
    }
   ],
   "source": [
    "initialString[6] "
   ]
  },
  {
   "cell_type": "code",
   "execution_count": 62,
   "id": "4a47e00e-2d2e-468a-b012-04cdbe4208f9",
   "metadata": {},
   "outputs": [
    {
     "data": {
      "text/plain": [
       "'o w'"
      ]
     },
     "execution_count": 62,
     "metadata": {},
     "output_type": "execute_result"
    }
   ],
   "source": [
    "initialString[4:7] # incluye desde [4] no incluye hasta [7]"
   ]
  },
  {
   "cell_type": "markdown",
   "id": "a694f3b7-574b-4609-9c4f-496db8fafa78",
   "metadata": {},
   "source": [
    "# Métodos de Strings"
   ]
  },
  {
   "cell_type": "markdown",
   "id": "a7912196-4930-4fc8-9c48-7dfde37c857b",
   "metadata": {},
   "source": [
    "## capitalize() "
   ]
  },
  {
   "cell_type": "markdown",
   "id": "1cffea4e-156f-4bf3-83f8-f96e84c6548f",
   "metadata": {},
   "source": [
    "#### Convierte el primer carácter del string en mayúscula y el resto en minúsculas."
   ]
  },
  {
   "cell_type": "code",
   "execution_count": 19,
   "id": "c42d49a8-68b1-49f3-a257-577971210ed9",
   "metadata": {},
   "outputs": [],
   "source": [
    "string= 'hello world'\n",
    "capitalize = string.capitalize()"
   ]
  },
  {
   "cell_type": "code",
   "execution_count": 20,
   "id": "688d4aef-c8d3-415e-aa85-7f0ef7a02aa1",
   "metadata": {},
   "outputs": [
    {
     "data": {
      "text/plain": [
       "'Hello world'"
      ]
     },
     "execution_count": 20,
     "metadata": {},
     "output_type": "execute_result"
    }
   ],
   "source": [
    "capitalize"
   ]
  },
  {
   "cell_type": "markdown",
   "id": "6edfcb40-9819-4536-ab24-5e920fb95e66",
   "metadata": {},
   "source": [
    "## upper() "
   ]
  },
  {
   "cell_type": "markdown",
   "id": "2c30f24a-027d-4167-b07c-a944cda5f07b",
   "metadata": {},
   "source": [
    "### Convierte todos los caracteres del string a mayúsculas."
   ]
  },
  {
   "cell_type": "code",
   "execution_count": 3,
   "id": "cab6198d-845f-4959-a21c-48ce848e45bc",
   "metadata": {},
   "outputs": [],
   "source": [
    "string= 'hello world'\n",
    "upper = string.upper()"
   ]
  },
  {
   "cell_type": "code",
   "execution_count": 4,
   "id": "c94ee44f-5c80-46c3-83ce-989a53cfce6c",
   "metadata": {},
   "outputs": [
    {
     "data": {
      "text/plain": [
       "'HELLO WORLD'"
      ]
     },
     "execution_count": 4,
     "metadata": {},
     "output_type": "execute_result"
    }
   ],
   "source": [
    "upper"
   ]
  },
  {
   "cell_type": "markdown",
   "id": "d9094094-d8e2-4738-8cbb-5b2e0f036793",
   "metadata": {},
   "source": [
    "## lower() "
   ]
  },
  {
   "cell_type": "markdown",
   "id": "2b2a6441-fbb4-4aff-a438-6a937ec5ce9a",
   "metadata": {},
   "source": [
    "### Convierte todos los caracteres del string a minúsculas."
   ]
  },
  {
   "cell_type": "code",
   "execution_count": 226,
   "id": "05a78313-5565-41e6-9e41-eab1dfc094d7",
   "metadata": {},
   "outputs": [],
   "source": [
    "string= 'HELLO WORLD'\n",
    "lower = string.lower()"
   ]
  },
  {
   "cell_type": "code",
   "execution_count": 227,
   "id": "02480607-708d-4d18-ac31-80d98f4ab3c9",
   "metadata": {},
   "outputs": [
    {
     "data": {
      "text/plain": [
       "'hello world'"
      ]
     },
     "execution_count": 227,
     "metadata": {},
     "output_type": "execute_result"
    }
   ],
   "source": [
    "lower"
   ]
  },
  {
   "cell_type": "markdown",
   "id": "21adcc55-44a2-428e-852e-a9cb44499906",
   "metadata": {},
   "source": [
    "## title() "
   ]
  },
  {
   "cell_type": "markdown",
   "id": "dd6859d3-3a4d-4aa3-8121-d1efb6519c5e",
   "metadata": {},
   "source": [
    "### Convierte la primera letra de cada palabra en mayúscula."
   ]
  },
  {
   "cell_type": "code",
   "execution_count": 229,
   "id": "78470e51-c95a-4ea3-8684-93771013775c",
   "metadata": {},
   "outputs": [],
   "source": [
    "string= 'hello world'\n",
    "title= string.title()"
   ]
  },
  {
   "cell_type": "code",
   "execution_count": 230,
   "id": "dbf99f6a-956f-4f66-8f4f-e6415af26792",
   "metadata": {},
   "outputs": [
    {
     "data": {
      "text/plain": [
       "'Hello World'"
      ]
     },
     "execution_count": 230,
     "metadata": {},
     "output_type": "execute_result"
    }
   ],
   "source": [
    "title"
   ]
  },
  {
   "cell_type": "markdown",
   "id": "fbbfcd3c-8c23-4a3a-adaa-01f086690e3f",
   "metadata": {},
   "source": [
    "## strip() "
   ]
  },
  {
   "cell_type": "markdown",
   "id": "91de5769-17b0-4a53-851b-b9709ffab83b",
   "metadata": {},
   "source": [
    "### Elimina los espacios en blanco (o caracteres especificados) al inicio y final del string. \n",
    "### lstrip() ---- [idem] al inicio del string, rstrip() ----  [idem] al final del string"
   ]
  },
  {
   "cell_type": "code",
   "execution_count": 5,
   "id": "d2424d6b-1a14-4bbc-9b7f-9f844489e5cd",
   "metadata": {},
   "outputs": [],
   "source": [
    "string =\"  hello world  \"\n",
    "strip = string.strip()"
   ]
  },
  {
   "cell_type": "code",
   "execution_count": 6,
   "id": "e6946115-4acc-49ad-997f-93e713f3c9e8",
   "metadata": {},
   "outputs": [
    {
     "data": {
      "text/plain": [
       "'hello world'"
      ]
     },
     "execution_count": 6,
     "metadata": {},
     "output_type": "execute_result"
    }
   ],
   "source": [
    "strip"
   ]
  },
  {
   "cell_type": "code",
   "execution_count": 234,
   "id": "fe915f20-e6d5-42c8-8da4-712c10ab372f",
   "metadata": {},
   "outputs": [],
   "source": [
    "string =\"#hello world#\"\n",
    "stripHashTag= string.strip('#')"
   ]
  },
  {
   "cell_type": "code",
   "execution_count": 235,
   "id": "f1a6d589-c1f9-48d7-aaac-49405dab4eba",
   "metadata": {},
   "outputs": [
    {
     "data": {
      "text/plain": [
       "'hello world'"
      ]
     },
     "execution_count": 235,
     "metadata": {},
     "output_type": "execute_result"
    }
   ],
   "source": [
    "stripHashTag"
   ]
  },
  {
   "cell_type": "markdown",
   "id": "21d0848e-226f-48f5-b0d2-d40efcdafd3c",
   "metadata": {},
   "source": [
    "## replace()"
   ]
  },
  {
   "cell_type": "markdown",
   "id": "27a77406-f89b-4f20-8020-494ccf8b54b8",
   "metadata": {},
   "source": [
    "### Reemplaza todas las ocurrencias de old con new. Opcionalmente, se puede especificar"
   ]
  },
  {
   "cell_type": "markdown",
   "id": "73f740b9-0c4e-4d39-8f07-138bd70f3787",
   "metadata": {},
   "source": [
    "#### str.replace(old, new[, count]) "
   ]
  },
  {
   "cell_type": "code",
   "execution_count": 237,
   "id": "4f9a4375-b9ba-44de-aaef-120adb625506",
   "metadata": {},
   "outputs": [],
   "source": [
    "string= 'hello world'\n",
    "replace = string.replace('world','Pyton')"
   ]
  },
  {
   "cell_type": "code",
   "execution_count": 238,
   "id": "17ca24da-a7c4-4c78-961c-2186b1a93a8b",
   "metadata": {},
   "outputs": [
    {
     "data": {
      "text/plain": [
       "'hello Pyton'"
      ]
     },
     "execution_count": 238,
     "metadata": {},
     "output_type": "execute_result"
    }
   ],
   "source": [
    "replace"
   ]
  },
  {
   "cell_type": "markdown",
   "id": "ef56e5dc-8be6-44de-ae3c-d860677cd543",
   "metadata": {},
   "source": [
    "## split() "
   ]
  },
  {
   "cell_type": "markdown",
   "id": "5a9bb238-44be-4d62-9822-e7d6b806e8a4",
   "metadata": {},
   "source": [
    "### Divide el string en una lista usando sep como separador.Si no se especifica sep, se usa el espacio."
   ]
  },
  {
   "cell_type": "markdown",
   "id": "bf56a944-c7e3-40be-ad25-33490ac58916",
   "metadata": {},
   "source": [
    "####  str.split([sep[, maxsplit]]) "
   ]
  },
  {
   "cell_type": "code",
   "execution_count": 7,
   "id": "d27de794-fc34-4151-a19e-d424b953d0e0",
   "metadata": {},
   "outputs": [],
   "source": [
    "string = \"hello world Python\"\n",
    "split = string.split()"
   ]
  },
  {
   "cell_type": "code",
   "execution_count": 8,
   "id": "6ac4c87d-81b6-4c03-9b9b-c2e69739b82f",
   "metadata": {},
   "outputs": [
    {
     "data": {
      "text/plain": [
       "['hello', 'world', 'Python']"
      ]
     },
     "execution_count": 8,
     "metadata": {},
     "output_type": "execute_result"
    }
   ],
   "source": [
    "split"
   ]
  },
  {
   "cell_type": "code",
   "execution_count": 9,
   "id": "9f794a6e-bd9f-425a-abfc-62f3efc9e515",
   "metadata": {},
   "outputs": [],
   "source": [
    "string = \"hello-world-Python\"\n",
    "split_ = string.split(\"-\")"
   ]
  },
  {
   "cell_type": "code",
   "execution_count": 10,
   "id": "2d972d36-db06-41fd-8a0a-7d747f0c9dec",
   "metadata": {},
   "outputs": [
    {
     "data": {
      "text/plain": [
       "['hello', 'world', 'Python']"
      ]
     },
     "execution_count": 10,
     "metadata": {},
     "output_type": "execute_result"
    }
   ],
   "source": [
    "split_"
   ]
  },
  {
   "cell_type": "markdown",
   "id": "7405c692-04ba-4460-8e31-061ae0ac5038",
   "metadata": {},
   "source": [
    "## join() "
   ]
  },
  {
   "cell_type": "markdown",
   "id": "ff3abaff-23c3-4128-ac1d-69e007734703",
   "metadata": {},
   "source": [
    "### Une los elementos de un iterable (como una lista) en un string, usando str como separador."
   ]
  },
  {
   "cell_type": "markdown",
   "id": "71564cea-2862-429f-a3d1-78ff0ea03e10",
   "metadata": {},
   "source": [
    "#### str.join(iterable) "
   ]
  },
  {
   "cell_type": "code",
   "execution_count": 11,
   "id": "0010f57a-398b-49d5-8228-a3d2244c6067",
   "metadata": {},
   "outputs": [],
   "source": [
    "array = [\"hello\", \"world\", \"Python\"]\n",
    "join = \" \".join(array)"
   ]
  },
  {
   "cell_type": "code",
   "execution_count": 12,
   "id": "1442ef31-c258-46ee-a5b0-d2c868f3dc27",
   "metadata": {},
   "outputs": [
    {
     "data": {
      "text/plain": [
       "'hello world Python'"
      ]
     },
     "execution_count": 12,
     "metadata": {},
     "output_type": "execute_result"
    }
   ],
   "source": [
    "join"
   ]
  },
  {
   "cell_type": "markdown",
   "id": "96052213-cacc-41c1-b374-e93a2e8e9d1f",
   "metadata": {},
   "source": [
    "## find() "
   ]
  },
  {
   "cell_type": "markdown",
   "id": "c75cda3e-6f8a-4559-bc77-492448249c1f",
   "metadata": {},
   "source": [
    "### Devuelve el índice de la primera ocurrencia de sub en el string. Si no se encuentra, devuelve -1."
   ]
  },
  {
   "cell_type": "markdown",
   "id": "58b1da7f-7088-4048-b78a-10f507aea6ee",
   "metadata": {},
   "source": [
    "#### str.find(sub[, start[, end]]) "
   ]
  },
  {
   "cell_type": "code",
   "execution_count": 254,
   "id": "4eced9fa-4c4e-44c9-8f57-c348e8d8233c",
   "metadata": {},
   "outputs": [],
   "source": [
    "string= 'hello world'\n",
    "find = string.find('world')"
   ]
  },
  {
   "cell_type": "code",
   "execution_count": 255,
   "id": "5a96fbc4-ba77-4e5c-be3c-f8095ec0fa9e",
   "metadata": {},
   "outputs": [
    {
     "data": {
      "text/plain": [
       "6"
      ]
     },
     "execution_count": 255,
     "metadata": {},
     "output_type": "execute_result"
    }
   ],
   "source": [
    "find"
   ]
  },
  {
   "cell_type": "markdown",
   "id": "2155213c-b22e-4eb3-8a55-53351ae88f25",
   "metadata": {},
   "source": [
    "## count()"
   ]
  },
  {
   "cell_type": "markdown",
   "id": "9a536c42-f6da-4257-8187-d2537cf55bd5",
   "metadata": {},
   "source": [
    "### Cuenta cuántas veces aparece sub en el string."
   ]
  },
  {
   "cell_type": "markdown",
   "id": "c7b488b7-ba34-4472-a187-b8b97dc894da",
   "metadata": {},
   "source": [
    "#### str.count(sub[, start[, end]])"
   ]
  },
  {
   "cell_type": "code",
   "execution_count": 13,
   "id": "b27d7b77-611a-43a2-8064-d1a4a30a2053",
   "metadata": {},
   "outputs": [],
   "source": [
    "text=\"hello hello world\"\n",
    "count = text.count('hello')"
   ]
  },
  {
   "cell_type": "code",
   "execution_count": 14,
   "id": "2383f60a-99c1-4372-b1d2-c508f630df38",
   "metadata": {},
   "outputs": [
    {
     "data": {
      "text/plain": [
       "2"
      ]
     },
     "execution_count": 14,
     "metadata": {},
     "output_type": "execute_result"
    }
   ],
   "source": [
    "count"
   ]
  },
  {
   "cell_type": "markdown",
   "id": "3b83308d-13d4-48a4-8bf3-8e86b9f7259a",
   "metadata": {},
   "source": [
    "## startWith() "
   ]
  },
  {
   "cell_type": "markdown",
   "id": "e7425ce0-8311-4d8a-9902-ab4a4334de4b",
   "metadata": {},
   "source": [
    "### Devuelve True si el string comienza con prefix"
   ]
  },
  {
   "cell_type": "markdown",
   "id": "31117372-4f0e-4c7a-9644-f18e7d12b03a",
   "metadata": {},
   "source": [
    "#### str.startswith(prefix[, start[, end]]) "
   ]
  },
  {
   "cell_type": "code",
   "execution_count": 15,
   "id": "d2d7e3f2-faaa-42eb-a6f5-f320542d9022",
   "metadata": {},
   "outputs": [],
   "source": [
    "string= 'hello world'\n",
    "starstwith = string.startswith('hello')"
   ]
  },
  {
   "cell_type": "code",
   "execution_count": 16,
   "id": "e31f7e20-b948-4dbb-b680-2318e6192875",
   "metadata": {},
   "outputs": [
    {
     "data": {
      "text/plain": [
       "True"
      ]
     },
     "execution_count": 16,
     "metadata": {},
     "output_type": "execute_result"
    }
   ],
   "source": [
    "starstwith"
   ]
  },
  {
   "cell_type": "markdown",
   "id": "f4700d92-f14c-4b3f-a971-51f48c04dce3",
   "metadata": {},
   "source": [
    "## endswith() "
   ]
  },
  {
   "cell_type": "markdown",
   "id": "3717b7e4-8654-4fb8-a522-8d5d270e2010",
   "metadata": {},
   "source": [
    "### Devuelve True si el string termina con suffix."
   ]
  },
  {
   "cell_type": "markdown",
   "id": "d29bb4ae-ee1a-470a-b2fb-f5563c939240",
   "metadata": {},
   "source": [
    "#### str.endswith(suffix[, start[, end]])"
   ]
  },
  {
   "cell_type": "code",
   "execution_count": 272,
   "id": "2f281448-9266-4576-b82b-cfa5fb961e84",
   "metadata": {},
   "outputs": [],
   "source": [
    "string= 'hello world'\n",
    "endswith = string.endswith('world')"
   ]
  },
  {
   "cell_type": "code",
   "execution_count": 273,
   "id": "14e85e8a-3719-42fd-be55-c15434f28ff4",
   "metadata": {},
   "outputs": [
    {
     "data": {
      "text/plain": [
       "True"
      ]
     },
     "execution_count": 273,
     "metadata": {},
     "output_type": "execute_result"
    }
   ],
   "source": [
    "endswith"
   ]
  },
  {
   "cell_type": "markdown",
   "id": "4f7ed081-3a6c-4593-b7a3-fa43eabb33e0",
   "metadata": {},
   "source": [
    "## isalpha() "
   ]
  },
  {
   "cell_type": "markdown",
   "id": "7fbab39d-59ee-4355-8deb-4352b0845920",
   "metadata": {},
   "source": [
    "### Devuelve True si todos los caracteres del string son alfabéticos."
   ]
  },
  {
   "cell_type": "markdown",
   "id": "53c9f0d2-1e9c-43a8-a4e0-38be8ad1bc29",
   "metadata": {},
   "source": [
    "####  str.isalpha() "
   ]
  },
  {
   "cell_type": "code",
   "execution_count": 276,
   "id": "3412c5aa-39c6-4156-926a-5f79c3550bd6",
   "metadata": {},
   "outputs": [],
   "source": [
    "hello= 'hello'\n",
    "isalpha = hello.isalpha()\n",
    "isNotAlpha = string.isalpha()"
   ]
  },
  {
   "cell_type": "code",
   "execution_count": 277,
   "id": "b50a0a87-84b9-487e-9298-2191ed2fe8ce",
   "metadata": {},
   "outputs": [
    {
     "data": {
      "text/plain": [
       "True"
      ]
     },
     "execution_count": 277,
     "metadata": {},
     "output_type": "execute_result"
    }
   ],
   "source": [
    "isalpha"
   ]
  },
  {
   "cell_type": "code",
   "execution_count": 278,
   "id": "9f91bd7b-06f1-4da5-9e3e-91b38fbe6472",
   "metadata": {},
   "outputs": [
    {
     "data": {
      "text/plain": [
       "False"
      ]
     },
     "execution_count": 278,
     "metadata": {},
     "output_type": "execute_result"
    }
   ],
   "source": [
    "isNotAlpha"
   ]
  },
  {
   "cell_type": "markdown",
   "id": "55431fb2-827a-4ebd-8a5e-7bd7e6923e7f",
   "metadata": {},
   "source": [
    "## isdigit() "
   ]
  },
  {
   "cell_type": "markdown",
   "id": "44745046-9832-4010-bf1b-795d5e88b44d",
   "metadata": {},
   "source": [
    "### Devuelve True si todos los caracteres del string son dígitos."
   ]
  },
  {
   "cell_type": "markdown",
   "id": "0a77d918-91cf-4fd6-bf38-85781da20a54",
   "metadata": {},
   "source": [
    "#### str.isdigit() "
   ]
  },
  {
   "cell_type": "code",
   "execution_count": 280,
   "id": "b177da5d-fe6a-4d4c-a2e9-5b397bafd33f",
   "metadata": {},
   "outputs": [],
   "source": [
    "numbers= '123'\n",
    "isdigit = numbers.isdigit()"
   ]
  },
  {
   "cell_type": "code",
   "execution_count": 281,
   "id": "2f083626-e02d-46cc-ba04-6ca073410845",
   "metadata": {},
   "outputs": [
    {
     "data": {
      "text/plain": [
       "True"
      ]
     },
     "execution_count": 281,
     "metadata": {},
     "output_type": "execute_result"
    }
   ],
   "source": [
    "isdigit"
   ]
  },
  {
   "cell_type": "markdown",
   "id": "89327a20-bb92-4c3a-ad39-137bc6ec001f",
   "metadata": {},
   "source": [
    "## isalnum() "
   ]
  },
  {
   "cell_type": "markdown",
   "id": "2b34f977-454c-4bf5-a897-145fb308c7c6",
   "metadata": {},
   "source": [
    "### Devuelve True si todos los caracteres del string son alfanuméricos."
   ]
  },
  {
   "cell_type": "markdown",
   "id": "230bd7d0-1134-4af0-995e-882e364810cd",
   "metadata": {},
   "source": [
    "#### str.isalnum() "
   ]
  },
  {
   "cell_type": "code",
   "execution_count": 283,
   "id": "c4ec5ee2-872a-4e6d-b813-359a61d0ab3f",
   "metadata": {},
   "outputs": [],
   "source": [
    "numbers= '123'\n",
    "hello= 'hello'\n",
    "isalnum = (hello + numbers).isalnum()"
   ]
  },
  {
   "cell_type": "code",
   "execution_count": 284,
   "id": "5c229cd5-3eb4-4913-be06-8cc6639c98d6",
   "metadata": {},
   "outputs": [
    {
     "data": {
      "text/plain": [
       "True"
      ]
     },
     "execution_count": 284,
     "metadata": {},
     "output_type": "execute_result"
    }
   ],
   "source": [
    "isalnum"
   ]
  },
  {
   "cell_type": "markdown",
   "id": "d6eefe4c-f6fc-4615-b512-5ca80b4ec4b3",
   "metadata": {},
   "source": [
    "## islower() "
   ]
  },
  {
   "cell_type": "markdown",
   "id": "af39b95a-992f-4e80-a36f-dc2e6342a966",
   "metadata": {},
   "source": [
    "### Devuelve True si todos los caracteres del string están en minúsculas."
   ]
  },
  {
   "cell_type": "code",
   "execution_count": 286,
   "id": "e22c2ffc-a0fd-4b85-94b2-e9274ba5eebc",
   "metadata": {},
   "outputs": [],
   "source": [
    "string= 'hello world'\n",
    "islower= string.islower()"
   ]
  },
  {
   "cell_type": "code",
   "execution_count": 287,
   "id": "dcad38c5-aa86-4762-a183-aa60f873a984",
   "metadata": {},
   "outputs": [
    {
     "data": {
      "text/plain": [
       "True"
      ]
     },
     "execution_count": 287,
     "metadata": {},
     "output_type": "execute_result"
    }
   ],
   "source": [
    "islower"
   ]
  },
  {
   "cell_type": "markdown",
   "id": "2cf527e0-4b0e-4213-a5d6-df699d55ed68",
   "metadata": {},
   "source": [
    "## isupper() "
   ]
  },
  {
   "cell_type": "markdown",
   "id": "26889435-7295-4f2e-9bc3-b75687e84463",
   "metadata": {},
   "source": [
    "### Devuelve True si todos los caracteres del string están en mayúsculas."
   ]
  },
  {
   "cell_type": "code",
   "execution_count": 289,
   "id": "fd1b6e52-c250-4320-bbd8-105322eda808",
   "metadata": {},
   "outputs": [],
   "source": [
    "string= 'HELLO WORLD'\n",
    "isupper= string.isupper()"
   ]
  },
  {
   "cell_type": "code",
   "execution_count": 290,
   "id": "8e739071-8344-4127-8a5d-907ad0bf95dd",
   "metadata": {},
   "outputs": [
    {
     "data": {
      "text/plain": [
       "True"
      ]
     },
     "execution_count": 290,
     "metadata": {},
     "output_type": "execute_result"
    }
   ],
   "source": [
    "isupper"
   ]
  },
  {
   "cell_type": "markdown",
   "id": "4637e256-7f27-4457-b5eb-95814df045e7",
   "metadata": {},
   "source": [
    "## zfill() "
   ]
  },
  {
   "cell_type": "markdown",
   "id": "4b2b519b-d4e0-458e-8aa7-26fa1b7d0178",
   "metadata": {},
   "source": [
    "### Rellena el string con ceros a la izquierda hasta alcanzar la longitud width."
   ]
  },
  {
   "cell_type": "markdown",
   "id": "0e27af16-3eb0-4ee5-b66b-a7b0bbee3309",
   "metadata": {},
   "source": [
    "#### str.zfill(width) "
   ]
  },
  {
   "cell_type": "code",
   "execution_count": 292,
   "id": "0bdf907a-284c-4c38-8607-36c18e97686f",
   "metadata": {},
   "outputs": [],
   "source": [
    "numbers= '123'\n",
    "zfill = numbers.zfill(6)"
   ]
  },
  {
   "cell_type": "code",
   "execution_count": 293,
   "id": "12487560-452e-4bdf-8f9a-df8d2fc3dd8f",
   "metadata": {},
   "outputs": [
    {
     "data": {
      "text/plain": [
       "'000123'"
      ]
     },
     "execution_count": 293,
     "metadata": {},
     "output_type": "execute_result"
    }
   ],
   "source": [
    "zfill"
   ]
  },
  {
   "cell_type": "markdown",
   "id": "834aa54d-eb76-4d7c-9c3b-5df1142c5777",
   "metadata": {},
   "source": [
    "## format() "
   ]
  },
  {
   "cell_type": "markdown",
   "id": "6c628b00-527c-4c21-8942-82138000ff59",
   "metadata": {},
   "source": [
    "### Formatea el string reemplazando placeholders {} con valores."
   ]
  },
  {
   "cell_type": "markdown",
   "id": "b09eb67e-a06a-496d-8670-d80e224449e7",
   "metadata": {},
   "source": [
    "#### str.format(*args, **kwargs) "
   ]
  },
  {
   "cell_type": "code",
   "execution_count": 22,
   "id": "fec72837-f9c8-4050-ae26-850fcf6cd814",
   "metadata": {},
   "outputs": [],
   "source": [
    "text = \"Hola {}\"\n",
    "formating = text.format('world')"
   ]
  },
  {
   "cell_type": "code",
   "execution_count": 23,
   "id": "af0dddfc-4c41-4fc1-9e52-a00ee456a2ae",
   "metadata": {},
   "outputs": [
    {
     "data": {
      "text/plain": [
       "'Hola world'"
      ]
     },
     "execution_count": 23,
     "metadata": {},
     "output_type": "execute_result"
    }
   ],
   "source": [
    "formating"
   ]
  },
  {
   "cell_type": "markdown",
   "id": "e3b6a153-1590-406c-ac95-c04a0ffe6fd7",
   "metadata": {},
   "source": [
    "### f-strings()"
   ]
  },
  {
   "cell_type": "markdown",
   "id": "671df48e-eba5-495d-ab26-b9b41009b00d",
   "metadata": {},
   "source": [
    "### Permite incrustar expresiones dentro de un string usando {}."
   ]
  },
  {
   "cell_type": "markdown",
   "id": "2228ac5d-8daa-465d-9456-f70b6a558756",
   "metadata": {},
   "source": [
    "#### f\"texto {variable}\" "
   ]
  },
  {
   "cell_type": "code",
   "execution_count": 17,
   "id": "c25e09cf-312e-4ef0-a2e8-c6358c8030f0",
   "metadata": {},
   "outputs": [],
   "source": [
    "hello= 'hello'\n",
    "fstring= f\"{hello} World\""
   ]
  },
  {
   "cell_type": "code",
   "execution_count": 18,
   "id": "646dc331-ade4-4985-b44c-76812a246d3c",
   "metadata": {},
   "outputs": [
    {
     "data": {
      "text/plain": [
       "'hello World'"
      ]
     },
     "execution_count": 18,
     "metadata": {},
     "output_type": "execute_result"
    }
   ],
   "source": [
    "fstring"
   ]
  },
  {
   "cell_type": "code",
   "execution_count": null,
   "id": "b13629f0-0782-4c26-972a-4149582decd7",
   "metadata": {},
   "outputs": [],
   "source": []
  },
  {
   "cell_type": "markdown",
   "id": "f48f06ea-b65a-44c3-82a1-79b1b1bff2e0",
   "metadata": {},
   "source": []
  }
 ],
 "metadata": {
  "kernelspec": {
   "display_name": "Python 3 (ipykernel)",
   "language": "python",
   "name": "python3"
  },
  "language_info": {
   "codemirror_mode": {
    "name": "ipython",
    "version": 3
   },
   "file_extension": ".py",
   "mimetype": "text/x-python",
   "name": "python",
   "nbconvert_exporter": "python",
   "pygments_lexer": "ipython3",
   "version": "3.11.11"
  }
 },
 "nbformat": 4,
 "nbformat_minor": 5
}
